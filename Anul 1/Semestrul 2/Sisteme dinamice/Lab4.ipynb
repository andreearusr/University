{
 "cells": [
  {
   "cell_type": "code",
   "execution_count": 7,
   "metadata": {},
   "outputs": [
    {
     "data": {
      "text/html": [
       "<html><script type=\"math/tex; mode=display\">\\newcommand{\\Bold}[1]{\\mathbf{#1}}x_{0} e^{\\left(-k t\\right)}</script></html>"
      ],
      "text/plain": [
       "x0*e^(-k*t)"
      ]
     },
     "metadata": {},
     "output_type": "display_data"
    }
   ],
   "source": [
    "#ex1 a\n",
    "t,k,x0=var('t,k,x0')\n",
    "x=function('x')(t)\n",
    "deq = diff(x,t)==-k*x\n",
    "f(t,k,x0)=desolve(deq,[x,t], ics=[0,x0])\n",
    "show(f(t,k,x0))\n"
   ]
  },
  {
   "cell_type": "code",
   "execution_count": 8,
   "metadata": {},
   "outputs": [
    {
     "data": {
      "image/png": "[encoded data removed]",
      "text/plain": [
       "Graphics object consisting of 2 graphics primitives"
      ]
     },
     "metadata": {},
     "output_type": "display_data"
    }
   ],
   "source": [
    "#b\n",
    "g1=plot(sol.subs(x0==3,k==4))\n",
    "g2=plot(sol.subs(x0==-5,k==5))\n",
    "show(g1+g2)"
   ]
  },
  {
   "cell_type": "code",
   "execution_count": 9,
   "metadata": {},
   "outputs": [
    {
     "data": {
      "text/html": [
       "<html><script type=\"math/tex; mode=display\">\\newcommand{\\Bold}[1]{\\mathbf{#1}}\\left[k = \\frac{\\log\\left(2\\right)}{T_{12}}\\right]</script></html>"
      ],
      "text/plain": [
       "[k == log(2)/T12]"
      ]
     },
     "metadata": {},
     "output_type": "display_data"
    },
    {
     "data": {
      "text/plain": [
       "log(2)/T12"
      ]
     },
     "execution_count": 9,
     "metadata": {},
     "output_type": "execute_result"
    }
   ],
   "source": [
    "#1c\n",
    "T12=var('T12')\n",
    "ec=f(T12,k,x0)==x0/2\n",
    "[s1]=solve(ec,k)\n",
    "show([s1])\n",
    "k(T12)=s1.rhs()\n",
    "k(T12)\n"
   ]
  },
  {
   "cell_type": "code",
   "execution_count": 10,
   "metadata": {},
   "outputs": [
    {
     "data": {
      "text/plain": [
       "1/5730*log(2)"
      ]
     },
     "execution_count": 10,
     "metadata": {},
     "output_type": "execute_result"
    }
   ],
   "source": [
    "k(5730)"
   ]
  },
  {
   "cell_type": "code",
   "execution_count": 11,
   "metadata": {},
   "outputs": [
    {
     "data": {
      "text/plain": [
       "0.000120968094338559"
      ]
     },
     "execution_count": 11,
     "metadata": {},
     "output_type": "execute_result"
    }
   ],
   "source": [
    "numerical_approx(k(5730))"
   ]
  },
  {
   "cell_type": "code",
   "execution_count": 41,
   "metadata": {},
   "outputs": [
    {
     "data": {
      "text/html": [
       "<html><script type=\"math/tex; mode=display\">\\newcommand{\\Bold}[1]{\\mathbf{#1}}\\left[t = \\frac{25000}{3} \\, \\log\\left(5\\right)\\right]</script></html>"
      ],
      "text/plain": [
       "[t == 25000/3*log(5)]"
      ]
     },
     "metadata": {},
     "output_type": "display_data"
    },
    {
     "data": {
      "text/html": [
       "<html><script type=\"math/tex; mode=display\">\\newcommand{\\Bold}[1]{\\mathbf{#1}}\\frac{25000}{3} \\, \\log\\left(5\\right)</script></html>"
      ],
      "text/plain": [
       "25000/3*log(5)"
      ]
     },
     "metadata": {},
     "output_type": "display_data"
    },
    {
     "data": {
      "text/plain": [
       "13411.9826036175"
      ]
     },
     "execution_count": 41,
     "metadata": {},
     "output_type": "execute_result"
    }
   ],
   "source": [
    "#1d\n",
    "t,k,x0=var('t,k,x0')\n",
    "x=function('x')(t)\n",
    "deq = diff(x,t)==-k*x\n",
    "f(t,k,x0)=desolve(deq,[x,t], ics=[0,x0])\n",
    "assume(t,'real')\n",
    "ec2=f(t,0.00012,1)==0.2\n",
    "[s2]=solve(ec2, t)\n",
    "show([s2])\n",
    "t1=s2.rhs()\n",
    "show(t1)\n",
    "numerical_approx(t1)"
   ]
  },
  {
   "cell_type": "code",
   "execution_count": 45,
   "metadata": {},
   "outputs": [
    {
     "data": {
      "text/html": [
       "<html><script type=\"math/tex; mode=display\">\\newcommand{\\Bold}[1]{\\mathbf{#1}}\\left[t = 25000 \\, \\log\\left(\\frac{10}{9157} \\cdot 9157^{\\frac{2}{3}} 10^{\\frac{1}{3}}\\right)\\right]</script></html>"
      ],
      "text/plain": [
       "[t == 25000*log(10/9157*9157^(2/3)*10^(1/3))]"
      ]
     },
     "metadata": {},
     "output_type": "display_data"
    },
    {
     "data": {
      "text/html": [
       "<html><script type=\"math/tex; mode=display\">\\newcommand{\\Bold}[1]{\\mathbf{#1}}25000 \\, \\log\\left(\\frac{10}{9157} \\cdot 9157^{\\frac{2}{3}} 10^{\\frac{1}{3}}\\right)</script></html>"
      ],
      "text/plain": [
       "25000*log(10/9157*9157^(2/3)*10^(1/3))"
      ]
     },
     "metadata": {},
     "output_type": "display_data"
    },
    {
     "data": {
      "text/html": [
       "<html><script type=\"math/tex; mode=display\">\\newcommand{\\Bold}[1]{\\mathbf{#1}}1254.11267609625</script></html>"
      ],
      "text/plain": [
       "1254.11267609625"
      ]
     },
     "metadata": {},
     "output_type": "display_data"
    }
   ],
   "source": [
    "#1e\n",
    "reset()\n",
    "t,k,x0=var('t,k,x0')\n",
    "x=function('x')(t)\n",
    "deq = diff(x,t)==-k*x\n",
    "f(t,k,x0)=desolve(deq,[x,t], ics=[0,x0])\n",
    "assume(t,'real')\n",
    "ec3=f(t,0.00012,1)==0.9157\n",
    "[s3]=solve(ec3, t)\n",
    "show([s3])\n",
    "t1=s3.rhs()\n",
    "show(t1)\n",
    "p1=numerical_approx(t1)\n",
    "s=1988-p1\n",
    "show(s)"
   ]
  },
  {
   "cell_type": "code",
   "execution_count": 46,
   "metadata": {},
   "outputs": [
    {
     "data": {
      "text/html": [
       "<html><script type=\"math/tex; mode=display\">\\newcommand{\\Bold}[1]{\\mathbf{#1}}25000 \\, \\log\\left(\\frac{10}{93021} \\cdot 93021^{\\frac{2}{3}} 100^{\\frac{1}{3}}\\right)</script></html>"
      ],
      "text/plain": [
       "25000*log(10/93021*93021^(2/3)*100^(1/3))"
      ]
     },
     "metadata": {},
     "output_type": "display_data"
    },
    {
     "data": {
      "text/html": [
       "<html><script type=\"math/tex; mode=display\">\\newcommand{\\Bold}[1]{\\mathbf{#1}}1385.12573438617</script></html>"
      ],
      "text/plain": [
       "1385.12573438617"
      ]
     },
     "metadata": {},
     "output_type": "display_data"
    }
   ],
   "source": [
    "assume(t,'real')\n",
    "ec4=f(t,0.00012,1)==0.93021\n",
    "[s4]=solve(ec4, t)\n",
    "t2=s4.rhs()\n",
    "show(t2)\n",
    "p2=numerical_approx(t2)\n",
    "s=1988-p2\n",
    "show(s)"
   ]
  },
  {
   "cell_type": "code",
   "execution_count": 59,
   "metadata": {},
   "outputs": [
    {
     "data": {
      "text/html": [
       "<html><script type=\"math/tex; mode=display\">\\newcommand{\\Bold}[1]{\\mathbf{#1}}{\\left(\\mathit{Tm} e^{\\left(k t\\right)} + T_{0} - \\mathit{Tm}\\right)} e^{\\left(-k t\\right)}</script></html>"
      ],
      "text/plain": [
       "(Tm*e^(k*t) + T0 - Tm)*e^(-k*t)"
      ]
     },
     "metadata": {},
     "output_type": "display_data"
    }
   ],
   "source": [
    "#2a\n",
    "reset()\n",
    "t,k,T0,Tm=var('t,k,T0,Tm')\n",
    "T=function('T')(t)\n",
    "deq = diff(T,t)==-k*(T-Tm)\n",
    "f(t,k,T0,Tm)=desolve(deq, [T,t], [0,T0])\n",
    "show(f(t,k,T0,Tm))\n"
   ]
  },
  {
   "cell_type": "code",
   "execution_count": 67,
   "metadata": {},
   "outputs": [
    {
     "data": {
      "image/png": "[encoded data removed]",
      "text/plain": [
       "Graphics object consisting of 2 graphics primitives"
      ]
     },
     "execution_count": 67,
     "metadata": {},
     "output_type": "execute_result"
    }
   ],
   "source": [
    "plot([f(t,5,10, 20),f(t,2,25,20)],t,-10,10,ymin=0,ymax=37)\n"
   ]
  },
  {
   "cell_type": "code",
   "execution_count": 68,
   "metadata": {},
   "outputs": [
    {
     "data": {
      "text/html": [
       "<html><script type=\"math/tex; mode=display\">\\newcommand{\\Bold}[1]{\\mathbf{#1}}\\left[k = \\log\\left(\\frac{1322}{1311}\\right)\\right]</script></html>"
      ],
      "text/plain": [
       "[k == log(1322/1311)]"
      ]
     },
     "metadata": {},
     "output_type": "display_data"
    },
    {
     "data": {
      "text/plain": [
       "log(1322/1311)"
      ]
     },
     "execution_count": 68,
     "metadata": {},
     "output_type": "execute_result"
    }
   ],
   "source": [
    "#2c\n",
    "eq1=f(1,k,34.22,21)==34.11\n",
    "[s1]=solve(eq1,k)\n",
    "show([s1])\n",
    "k1=s1.rhs()\n",
    "k1\n"
   ]
  },
  {
   "cell_type": "code",
   "execution_count": 71,
   "metadata": {},
   "outputs": [
    {
     "data": {
      "text/plain": [
       "1322^Tm == 750/661*1311^Tm"
      ]
     },
     "execution_count": 71,
     "metadata": {},
     "output_type": "execute_result"
    }
   ],
   "source": [
    "eq2=f(Tm,k1,36,21)==34.22\n",
    "[s2]=solve(eq2,Tm)\n",
    "s2"
   ]
  },
  {
   "cell_type": "code",
   "execution_count": 72,
   "metadata": {},
   "outputs": [
    {
     "data": {
      "text/plain": [
       "15.118043520273078"
      ]
     },
     "execution_count": 72,
     "metadata": {},
     "output_type": "execute_result"
    }
   ],
   "source": [
    "find_root(eq2,0,24)"
   ]
  },
  {
   "cell_type": "code",
   "execution_count": 1,
   "metadata": {},
   "outputs": [
    {
     "data": {
      "text/html": [
       "<html><script type=\"math/tex; mode=display\">\\newcommand{\\Bold}[1]{\\mathbf{#1}}x_{0} e^{\\left(r t\\right)}</script></html>"
      ],
      "text/plain": [
       "x0*e^(r*t)"
      ]
     },
     "metadata": {},
     "output_type": "display_data"
    }
   ],
   "source": [
    "#3 Malthus model\n",
    "# t -timpul (ani)\n",
    "# x0 - val initiala a populatiei\n",
    "# r - rata de crestere a populatiei\n",
    "reset()\n",
    "t,r,x0,K,r0=var('t,r,x0,K,r0')\n",
    "x=function('x')(t)\n",
    "deqM=diff(x,t)==r*x\n",
    "sM(t,x0,r)=desolve(deqM,[x,t],[0,x0])\n",
    "show(sM(t,x0,r))\n"
   ]
  },
  {
   "cell_type": "code",
   "execution_count": 3,
   "metadata": {},
   "outputs": [
    {
     "data": {
      "text/html": [
       "<html><script type=\"math/tex; mode=display\">\\newcommand{\\Bold}[1]{\\mathbf{#1}}\\left[\\log\\left(x\\left(t\\right)\\right) = r_{0} t - \\log\\left(-K + x_{0}\\right) + \\log\\left(-K + x\\left(t\\right)\\right) + \\log\\left(x_{0}\\right)\\right]</script></html>"
      ],
      "text/plain": [
       "[log(x(t)) == r0*t - log(-K + x0) + log(-K + x(t)) + log(x0)]"
      ]
     },
     "metadata": {},
     "output_type": "display_data"
    }
   ],
   "source": [
    "# K - rata de crestere logistica a populatiei (Verhulst)(const de suport a mediului)\n",
    "# r0 - rata de crestere nerestrictiva (Verhulst)\n",
    "# x0 - valoarea initiala a populatiei\n",
    "deqV=diff(x,t)==r0*x*(1-x/K)\n",
    "sV1=desolve(deqV,[x,t],[0,x0])\n",
    "show(solve(sV1,x))"
   ]
  },
  {
   "cell_type": "code",
   "execution_count": 5,
   "metadata": {},
   "outputs": [
    {
     "data": {
      "text/html": [
       "<html><script type=\"math/tex; mode=display\">\\newcommand{\\Bold}[1]{\\mathbf{#1}}\\left[x\\left(t\\right) = \\frac{K x_{0} e^{\\left(r_{0} t\\right)}}{x_{0} {\\left(e^{\\left(r_{0} t\\right)} - 1\\right)} + K}\\right]</script></html>"
      ],
      "text/plain": [
       "[x(t) == K*x0*e^(r0*t)/(x0*(e^(r0*t) - 1) + K)]"
      ]
     },
     "metadata": {},
     "output_type": "display_data"
    },
    {
     "data": {
      "text/html": [
       "<html><script type=\"math/tex; mode=display\">\\newcommand{\\Bold}[1]{\\mathbf{#1}}\\frac{K x_{0} e^{\\left(r_{0} t\\right)}}{x_{0} {\\left(e^{\\left(r_{0} t\\right)} - 1\\right)} + K}</script></html>"
      ],
      "text/plain": [
       "K*x0*e^(r0*t)/(x0*(e^(r0*t) - 1) + K)"
      ]
     },
     "metadata": {},
     "output_type": "display_data"
    }
   ],
   "source": [
    "eq1=sV1.log_simplify()\n",
    "[sV2]=solve(eq1,x)\n",
    "show([sV2])\n",
    "sV(t,x0,r0,K)=sV2.rhs()\n",
    "show(sV(t,x0,r0,K))"
   ]
  },
  {
   "cell_type": "code",
   "execution_count": 6,
   "metadata": {},
   "outputs": [
    {
     "data": {
      "text/plain": [
       "[9.60000000000000,\n",
       " 12.9000000000000,\n",
       " 17.1000000000000,\n",
       " 23.2000000000000,\n",
       " 31.4000000000000,\n",
       " 38.6000000000000,\n",
       " 50.2000000000000,\n",
       " 62.9000000000000,\n",
       " 76,\n",
       " 92,\n",
       " 106.500000000000,\n",
       " 123.200000000000]"
      ]
     },
     "execution_count": 6,
     "metadata": {},
     "output_type": "execute_result"
    }
   ],
   "source": [
    "#c\n",
    "popUS=[9.6,12.9,17.1,23.2,31.4,38.6,50.2,62.9,76,92,106.5,123.2]\n",
    "popUS"
   ]
  },
  {
   "cell_type": "code",
   "execution_count": 8,
   "metadata": {},
   "outputs": [
    {
     "data": {
      "text/plain": [
       "[(0, 9.60000000000000),\n",
       " (10, 12.9000000000000),\n",
       " (20, 17.1000000000000),\n",
       " (30, 23.2000000000000),\n",
       " (40, 31.4000000000000),\n",
       " (50, 38.6000000000000),\n",
       " (60, 50.2000000000000),\n",
       " (70, 62.9000000000000),\n",
       " (80, 76),\n",
       " (90, 92),\n",
       " (100, 106.500000000000),\n",
       " (110, 123.200000000000)]"
      ]
     },
     "execution_count": 8,
     "metadata": {},
     "output_type": "execute_result"
    }
   ],
   "source": [
    "list_points=[(10*i,popUS[i]) for i in [0..11]]\n",
    "list_points"
   ]
  },
  {
   "cell_type": "code",
   "execution_count": 9,
   "metadata": {},
   "outputs": [
    {
     "data": {
      "text/html": [
       "<html><script type=\"math/tex; mode=display\">\\newcommand{\\Bold}[1]{\\mathbf{#1}}\\log\\left(\\frac{1}{2} \\cdot 43^{\\frac{1}{10}} \\sqrt{2}\\right)</script></html>"
      ],
      "text/plain": [
       "log(1/2*43^(1/10)*sqrt(2))"
      ]
     },
     "metadata": {},
     "output_type": "display_data"
    }
   ],
   "source": [
    "#(c)\n",
    "assume(r,'real')\n",
    "# t - timpul (ani)\n",
    "# x0 - valoarea initiala a populatiei\n",
    "# r - rata de crestere a populatiei (Malthus)\n",
    "# sM(t,x0,r)\n",
    "eq=sM(10,popUS[0],r)==popUS[1]\n",
    "[r1]=solve(eq,r)\n",
    "r2=r1.rhs()\n",
    "show(r2)\n"
   ]
  },
  {
   "cell_type": "code",
   "execution_count": 11,
   "metadata": {},
   "outputs": [
    {
     "data": {
      "text/plain": [
       "0.0295464212893835"
      ]
     },
     "execution_count": 11,
     "metadata": {},
     "output_type": "execute_result"
    }
   ],
   "source": [
    "r=numerical_approx(r2)\n",
    "r"
   ]
  },
  {
   "cell_type": "code",
   "execution_count": 12,
   "metadata": {},
   "outputs": [
    {
     "data": {
      "image/png": "[encoded data removed]",
      "text/plain": [
       "Graphics object consisting of 2 graphics primitives"
      ]
     },
     "metadata": {},
     "output_type": "display_data"
    }
   ],
   "source": [
    "g1=list_plot(list_points,pointsize=20,color='red')\n",
    "g2=plot(sM(t,popUS[0],r),t,0,120)\n",
    "g=g1+g2\n",
    "show(g)"
   ]
  },
  {
   "cell_type": "code",
   "execution_count": 14,
   "metadata": {},
   "outputs": [
    {
     "data": {
      "text/html": [
       "<html><script type=\"math/tex; mode=display\">\\newcommand{\\Bold}[1]{\\mathbf{#1}}\\left[\\frac{9.6 \\, K e^{\\left(10 \\, r_{0}\\right)}}{K + 9.6 \\, e^{\\left(10 \\, r_{0}\\right)} - 9.6} = 12.9, \\frac{9.6 \\, K e^{\\left(20 \\, r_{0}\\right)}}{K + 9.6 \\, e^{\\left(20 \\, r_{0}\\right)} - 9.6} = 17.1\\right]</script></html>"
      ],
      "text/plain": [
       "[9.6*K*e^(10*r0)/(K + 9.6*e^(10*r0) - 9.6) == 12.9, 9.6*K*e^(20*r0)/(K + 9.6*e^(20*r0) - 9.6) == 17.1]"
      ]
     },
     "metadata": {},
     "output_type": "display_data"
    }
   ],
   "source": [
    "#(d)\n",
    "assume(r0,'real')\n",
    "assume(K,'real')\n",
    "# K - rata de crestere logistica a populatiei(Verhulst)(const de suport a mediului)\n",
    "# r0 - rata de crestere nerestrictiva(Verhulst)\n",
    "# x0 - valoarea initiala a populatiei\n",
    "# t - timpul\n",
    "# sV(t,x0,r0,K)\n",
    "eq1=sV(10,popUS[0],r0,K)==popUS[1]\n",
    "eq2=sV(20,popUS[0],r0,K)==popUS[2]\n",
    "s=solve([eq1,eq2],r0,K)\n",
    "show(s)"
   ]
  },
  {
   "cell_type": "code",
   "execution_count": 15,
   "metadata": {},
   "outputs": [
    {
     "data": {
      "text/html": [
       "<html><script type=\"math/tex; mode=display\">\\newcommand{\\Bold}[1]{\\mathbf{#1}}\\frac{2064 \\, {\\left(e^{\\left(10 \\, r_{0}\\right)} - 1\\right)}}{5 \\, {\\left(32 \\, e^{\\left(10 \\, r_{0}\\right)} - 43\\right)}}</script></html>"
      ],
      "text/plain": [
       "2064/5*(e^(10*r0) - 1)/(32*e^(10*r0) - 43)"
      ]
     },
     "metadata": {},
     "output_type": "display_data"
    }
   ],
   "source": [
    "K1=solve(eq1,K)[0].rhs()\n",
    "show(K1)"
   ]
  },
  {
   "cell_type": "code",
   "execution_count": 16,
   "metadata": {},
   "outputs": [
    {
     "data": {
      "text/plain": [
       "19814.4000000000*(e^(10*r0) - 1)*e^(20*r0)/((2064*(e^(10*r0) - 1)/(32*e^(10*r0) - 43) + 48.0000000000000*e^(20*r0) - 48.0000000000000)*(32*e^(10*r0) - 43)) == 17.1000000000000"
      ]
     },
     "execution_count": 16,
     "metadata": {},
     "output_type": "execute_result"
    }
   ],
   "source": [
    "eq3=eq2.substitute(K==K1)\n",
    "eq3"
   ]
  },
  {
   "cell_type": "code",
   "execution_count": 17,
   "metadata": {},
   "outputs": [
    {
     "data": {
      "text/plain": [
       "(19814.4*e^(10*r0) - 19814.4)*e^(20*r0)/((2064*(e^(10*r0) - 1)/(32*e^(10*r0) - 43) + 47.99999999999999*e^(20*r0) - 47.99999999999999)*(32*e^(10*r0) - 43)) == 17.1"
      ]
     },
     "execution_count": 17,
     "metadata": {},
     "output_type": "execute_result"
    }
   ],
   "source": [
    "simplify(eq3)"
   ]
  },
  {
   "cell_type": "code",
   "execution_count": 18,
   "metadata": {},
   "outputs": [
    {
     "data": {
      "text/plain": [
       "[r0 == log(1/56*627^(1/10)*8^(4/5)*7^(9/10))]"
      ]
     },
     "execution_count": 18,
     "metadata": {},
     "output_type": "execute_result"
    }
   ],
   "source": [
    "solve(eq3,r0)"
   ]
  },
  {
   "cell_type": "code",
   "execution_count": 19,
   "metadata": {},
   "outputs": [
    {
     "data": {
      "text/html": [
       "<html><script type=\"math/tex; mode=display\">\\newcommand{\\Bold}[1]{\\mathbf{#1}}\\log\\left(\\frac{1}{56} \\cdot 627^{\\frac{1}{10}} 8^{\\frac{4}{5}} 7^{\\frac{9}{10}}\\right)</script></html>"
      ],
      "text/plain": [
       "log(1/56*627^(1/10)*8^(4/5)*7^(9/10))"
      ]
     },
     "metadata": {},
     "output_type": "display_data"
    }
   ],
   "source": [
    "r00=solve(eq3,r0)[0].rhs()\n",
    "show(r00)"
   ]
  },
  {
   "cell_type": "code",
   "execution_count": 20,
   "metadata": {},
   "outputs": [
    {
     "data": {
      "text/plain": [
       "[K == (23091/250)]"
      ]
     },
     "execution_count": 20,
     "metadata": {},
     "output_type": "execute_result"
    }
   ],
   "source": [
    "eq22=eq2.substitute(r0==r00)\n",
    "solve(eq22,K)"
   ]
  },
  {
   "cell_type": "code",
   "execution_count": 21,
   "metadata": {},
   "outputs": [
    {
     "data": {
      "text/plain": [
       "23091/250"
      ]
     },
     "execution_count": 21,
     "metadata": {},
     "output_type": "execute_result"
    }
   ],
   "source": [
    "KK=solve(eq22,K)[0].rhs()\n",
    "KK"
   ]
  },
  {
   "cell_type": "code",
   "execution_count": 22,
   "metadata": {},
   "outputs": [
    {
     "data": {
      "text/plain": [
       "92.3640000000000"
      ]
     },
     "execution_count": 22,
     "metadata": {},
     "output_type": "execute_result"
    }
   ],
   "source": [
    "numerical_approx(KK)"
   ]
  },
  {
   "cell_type": "code",
   "execution_count": null,
   "metadata": {},
   "outputs": [],
   "source": []
  }
 ],
 "metadata": {
  "kernelspec": {
   "display_name": "SageMath 9.1",
   "language": "sage",
   "name": "sagemath"
  },
  "language_info": {
   "codemirror_mode": {
    "name": "ipython",
    "version": 3
   },
   "file_extension": ".py",
   "mimetype": "text/x-python",
   "name": "python",
   "nbconvert_exporter": "python",
   "pygments_lexer": "ipython3",
   "version": "3.7.3"
  }
 },
 "nbformat": 4,
 "nbformat_minor": 2
}
